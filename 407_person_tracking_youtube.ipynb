{
  "cells": [
    {
      "cell_type": "markdown",
      "metadata": {
        "tags": [],
        "id": "S4sOLgSaKqro"
      },
      "source": [
        "# Person Tracking with OpenVINO™\n",
        "\n",
        "This notebook demonstrates live person tracking with OpenVINO: it reads frames from an input video sequence, detects people in the frames, uniquely identifies each one of them and tracks all of them until they leave the frame. We will use the [Deep SORT](https://arxiv.org/abs/1703.07402) algorithm to perform object tracking, an extension to SORT (Simple Online and Realtime Tracking).\n",
        "\n",
        "## Detection vs Tracking\n",
        "- In object detection, we detect an object in a frame, put a bounding box or a mask around it, and classify the object. Note that, the job of the detector ends here. It processes each frame independently and identifies numerous objects in that particular frame.\n",
        "- An object tracker on the other hand needs to track a particular object across the entire video. If the detector detects three cars in the frame, the object tracker has to identify the three separate detections and needs to track it across the subsequent frames (with the help of a unique ID).\n",
        "\n",
        "## Deep SORT\n",
        "[Deep SORT](https://arxiv.org/abs/1703.07402) can be defined as the tracking algorithm which tracks objects not only based on the velocity and motion of the object but also the appearance of the object.\n",
        "It is made of three key components which are as follows:\n",
        "![deepsort](https://user-images.githubusercontent.com/91237924/221744683-0042eff8-2c41-43b8-b3ad-b5929bafb60b.png)\n",
        "\n",
        "1. **Detection**\n",
        "\n",
        "   This is the first step in the tracking module. In this step, a deep learning model will be used to detect the objects in the frame that are to be tracked. These detections are then passed on to the next step.\n",
        "\n",
        "2. **Prediction**\n",
        "   \n",
        "   In this step, we use Kalman filter \\[1\\] framework to predict a target bounding box of each tracking object in the next frame. There are two states of prediction output: ```confirmed``` and ```unconfirmed```. A new track comes with a state of ```unconfirmed``` by default, and it can be turned into ```confirmed``` when a certain number of consecutive detections are matched with this new track. Meanwhile, if a matched track is missed over a specific time, it will be deleted as well.\n",
        "\n",
        "3. **Data association and update**\n",
        "   \n",
        "   Now, we have to match the target bounding box with the detected bounding box, and update track identities. A conventional way to solve the association between the predicted Kalman states and newly arrived measurements is to build an assignment problem with the Hungarian algorithm \\[2\\]. In this problem formulation, we integrate motion and appearance information through a combination of two appropriate metrics. The cost used for the first matching step is set as a combination of the Mahalanobis and the cosine distances. The [Mahalanobis distance](https://en.wikipedia.org/wiki/Mahalanobis_distance) is used to incorporate motion information and the cosine distance is used to calculate similarity between two objects. Cosine distance is a metric that helps the tracker recover identities in case of long-term occlusion and motion estimation also fails. For this purposes, a reidentification model will be implemented to produce a vector in high-dimensional space that represents the appearance of the object. Using these simple things can make the tracker even more powerful and accurate.\n",
        "\n",
        "   In the second matching stage, we will run intersection over union(IOU) association as proposed in the original SORT algorithm \\[3\\] on the set of unconfirmed and unmatched tracks from the previous step. If the IOU of detection and target is less than a certain threshold value called `IOUmin` then that assignment is rejected. This helps to account for sudden appearance changes, for example, due to partial occlusion with static scene geometry, and to increase robustness against erroneous.\n",
        "   \n",
        "   When detection result is associated with a target, the detected bounding box is used to update the target state.\n",
        "\n",
        "---\n",
        "\n",
        "\\[1\\] R. Kalman, \"A New Approach to Linear Filtering and Prediction Problems\", Journal of Basic Engineering, vol. 82, no. Series D, pp. 35-45, 1960.\n",
        "\n",
        "\\[2\\] H. W. Kuhn, \"The Hungarian method for the assignment problem\", Naval Research Logistics Quarterly, vol. 2, pp. 83-97, 1955.\n",
        "\n",
        "\\[3\\] A. Bewley, G. Zongyuan, F. Ramos, and B. Upcroft, “Simple online and realtime tracking,” in ICIP, 2016, pp. 3464–3468."
      ]
    },
    {
      "cell_type": "markdown",
      "metadata": {
        "id": "39vPO2D8Kqrq"
      },
      "source": [
        "#### Table of contents:\n",
        "- [Imports](#Imports)\n",
        "- [Download the Model](#Download-the-Model)\n",
        "- [Load model](#Load-model)\n",
        "    - [Select inference device](#Select-inference-device)\n",
        "- [Data Processing](#Data-Processing)\n",
        "- [Test person reidentification model](#Test-person-reidentification-model)\n",
        "    - [Visualize data](#Visualize-data)\n",
        "    - [Compare two persons](#Compare-two-persons)\n",
        "- [Main Processing Function](#Main-Processing-Function)\n",
        "- [Run](#Run)\n",
        "    - [Initialize tracker](#Initialize-tracker)\n",
        "    - [Run Live Person Tracking](#Run-Live-Person-Tracking)\n"
      ]
    },
    {
      "cell_type": "code",
      "execution_count": 1,
      "metadata": {
        "id": "dmMNaY1dKqrq",
        "colab": {
          "base_uri": "https://localhost:8080/"
        },
        "outputId": "ad0c07a0-593d-4a04-8cca-bdba2fb27b2b"
      },
      "outputs": [
        {
          "output_type": "stream",
          "name": "stdout",
          "text": [
            "\u001b[2K     \u001b[90m━━━━━━━━━━━━━━━━━━━━━━━━━━━━━━━━━━━━━━━━\u001b[0m \u001b[32m5.9/5.9 MB\u001b[0m \u001b[31m13.7 MB/s\u001b[0m eta \u001b[36m0:00:00\u001b[0m\n",
            "\u001b[?25h  Preparing metadata (setup.py) ... \u001b[?25l\u001b[?25hdone\n",
            "\u001b[2K     \u001b[90m━━━━━━━━━━━━━━━━━━━━━━━━━━━━━━━━━━━━━━━━\u001b[0m \u001b[32m2.1/2.1 MB\u001b[0m \u001b[31m30.5 MB/s\u001b[0m eta \u001b[36m0:00:00\u001b[0m\n",
            "\u001b[2K     \u001b[90m━━━━━━━━━━━━━━━━━━━━━━━━━━━━━━━━━━━━━━━━\u001b[0m \u001b[32m38.3/38.3 MB\u001b[0m \u001b[31m11.0 MB/s\u001b[0m eta \u001b[36m0:00:00\u001b[0m\n",
            "\u001b[?25h  Building wheel for jstyleson (setup.py) ... \u001b[?25l\u001b[?25hdone\n",
            "\u001b[31mERROR: pip's dependency resolver does not currently take into account all the packages that are installed. This behaviour is the source of the following dependency conflicts.\n",
            "lida 0.0.10 requires fastapi, which is not installed.\n",
            "lida 0.0.10 requires kaleido, which is not installed.\n",
            "lida 0.0.10 requires python-multipart, which is not installed.\n",
            "lida 0.0.10 requires uvicorn, which is not installed.\u001b[0m\u001b[31m\n",
            "\u001b[0m"
          ]
        }
      ],
      "source": [
        "%pip install -q \"openvino-dev>=2023.1.0\"\n",
        "%pip install -q opencv-python matplotlib requests scipy"
      ]
    },
    {
      "cell_type": "markdown",
      "metadata": {
        "id": "d7AWQxMWKqrr"
      },
      "source": [
        "## Imports\n",
        "[back to top ⬆️](#Table-of-contents:)\n"
      ]
    },
    {
      "cell_type": "code",
      "execution_count": 2,
      "metadata": {
        "id": "0yxI2lv5Kqrr"
      },
      "outputs": [],
      "source": [
        "import collections\n",
        "from pathlib import Path\n",
        "import sys\n",
        "import time\n",
        "\n",
        "import numpy as np\n",
        "import cv2\n",
        "from IPython import display\n",
        "import matplotlib.pyplot as plt\n",
        "import openvino as ov"
      ]
    },
    {
      "cell_type": "code",
      "execution_count": 3,
      "metadata": {
        "colab": {
          "base_uri": "https://localhost:8080/"
        },
        "id": "JK3Q2J3DKqrr",
        "outputId": "69266471-46c4-411d-c5e1-0aadd9b704d7"
      },
      "outputs": [
        {
          "output_type": "stream",
          "name": "stdout",
          "text": [
            "Cloning into 'openvino_notebooks'...\n",
            "remote: Enumerating objects: 421, done.\u001b[K\n",
            "remote: Counting objects: 100% (421/421), done.\u001b[K\n",
            "remote: Compressing objects: 100% (389/389), done.\u001b[K\n",
            "remote: Total 421 (delta 26), reused 271 (delta 14), pack-reused 0\u001b[K\n",
            "Receiving objects: 100% (421/421), 55.50 MiB | 20.60 MiB/s, done.\n",
            "Resolving deltas: 100% (26/26), done.\n"
          ]
        }
      ],
      "source": [
        "# Import local modules\n",
        "\n",
        "utils_file_path = Path('../utils/notebook_utils.py')\n",
        "notebook_directory_path = Path('.')\n",
        "\n",
        "if not utils_file_path.exists():\n",
        "    !git clone --depth 1 https://github.com/igor-davidyuk/openvino_notebooks.git -b moving_data_to_cloud openvino_notebooks\n",
        "    utils_file_path = Path('./openvino_notebooks/notebooks/utils/notebook_utils.py')\n",
        "    notebook_directory_path = Path('./openvino_notebooks/notebooks/407-person-tracking-webcam/')\n",
        "\n",
        "sys.path.append(str(utils_file_path.parent))\n",
        "sys.path.append(str(notebook_directory_path))\n",
        "\n",
        "import notebook_utils as utils\n",
        "from deepsort_utils.tracker import Tracker\n",
        "from deepsort_utils.nn_matching import NearestNeighborDistanceMetric\n",
        "from deepsort_utils.detection import Detection, compute_color_for_labels, xywh_to_xyxy, xywh_to_tlwh, tlwh_to_xyxy"
      ]
    },
    {
      "cell_type": "markdown",
      "metadata": {
        "id": "iqZ9iEfUKqrs"
      },
      "source": [
        "## Download the Model\n",
        "[back to top ⬆️](#Table-of-contents:)\n",
        "\n",
        "We will use pre-trained models from OpenVINO's [Open Model Zoo](https://docs.openvino.ai/nightly/model_zoo.html) to start the test.\n",
        "\n",
        "Use `omz_downloader`, which is a command-line tool from the `openvino-dev` package. It automatically creates a directory structure and downloads the selected model. This step is skipped if the model is already downloaded. The selected model comes from the public directory, which means it must be converted into OpenVINO Intermediate Representation (OpenVINO IR).\n",
        "\n",
        "> **NOTE**: Using a model outside the list can require different pre- and post-processing.\n",
        "\n",
        "In this case, [person detection model]( https://docs.openvino.ai/2023.0/omz_models_model_person_detection_0202.html) is deployed to detect the person in each frame of the video, and [reidentification model]( https://docs.openvino.ai/2023.0/omz_models_model_person_reidentification_retail_0287.html) is used to output embedding vector to match a pair of images of a person by the cosine distance.\n",
        "\n",
        "\n",
        "If you want to download another model (`person-detection-xxx` from [Object Detection Models list](https://docs.openvino.ai/2023.0/omz_models_group_intel.html#object-detection-models), `person-reidentification-retail-xxx` from [Reidentification Models list](https://docs.openvino.ai/2023.0/omz_models_group_intel.html#reidentification-models)), replace the name of the model in the code below."
      ]
    },
    {
      "cell_type": "code",
      "execution_count": 4,
      "metadata": {
        "colab": {
          "base_uri": "https://localhost:8080/"
        },
        "id": "vSdcAy32Kqrs",
        "outputId": "e966237c-6696-4651-d5c1-ca8fd886292b"
      },
      "outputs": [
        {
          "output_type": "stream",
          "name": "stdout",
          "text": [
            "################|| Downloading person-detection-0202 ||################\n",
            "\n",
            "========== Downloading model/intel/person-detection-0202/FP16/person-detection-0202.xml\n",
            "... 100%, 248 KB, 692 KB/s, 0 seconds passed\n",
            "\n",
            "========== Downloading model/intel/person-detection-0202/FP16/person-detection-0202.bin\n",
            "... 100%, 3549 KB, 4347 KB/s, 0 seconds passed\n",
            "\n",
            "################|| Downloading person-reidentification-retail-0287 ||################\n",
            "\n",
            "========== Downloading model/intel/person-reidentification-retail-0287/person-reidentification-retail-0267.onnx\n",
            "... 100%, 3487 KB, 4255 KB/s, 0 seconds passed\n",
            "\n",
            "========== Downloading model/intel/person-reidentification-retail-0287/FP16/person-reidentification-retail-0287.xml\n",
            "... 100%, 600 KB, 1198 KB/s, 0 seconds passed\n",
            "\n",
            "========== Downloading model/intel/person-reidentification-retail-0287/FP16/person-reidentification-retail-0287.bin\n",
            "... 100%, 1153 KB, 1992 KB/s, 0 seconds passed\n",
            "\n"
          ]
        }
      ],
      "source": [
        "# A directory where the model will be downloaded.\n",
        "base_model_dir = \"model\"\n",
        "precision = \"FP16\"\n",
        "# The name of the model from Open Model Zoo\n",
        "detection_model_name = \"person-detection-0202\"\n",
        "\n",
        "download_command = f\"omz_downloader \" \\\n",
        "                   f\"--name {detection_model_name} \" \\\n",
        "                   f\"--precisions {precision} \" \\\n",
        "                   f\"--output_dir {base_model_dir} \" \\\n",
        "                   f\"--cache_dir {base_model_dir}\"\n",
        "! $download_command\n",
        "\n",
        "detection_model_path = f\"model/intel/{detection_model_name}/{precision}/{detection_model_name}.xml\"\n",
        "\n",
        "\n",
        "reidentification_model_name = \"person-reidentification-retail-0287\"\n",
        "\n",
        "download_command = f\"omz_downloader \" \\\n",
        "                   f\"--name {reidentification_model_name} \" \\\n",
        "                   f\"--precisions {precision} \" \\\n",
        "                   f\"--output_dir {base_model_dir} \" \\\n",
        "                   f\"--cache_dir {base_model_dir}\"\n",
        "! $download_command\n",
        "\n",
        "reidentification_model_path = f\"model/intel/{reidentification_model_name}/{precision}/{reidentification_model_name}.xml\""
      ]
    },
    {
      "cell_type": "markdown",
      "metadata": {
        "id": "mCywky1FKqrs"
      },
      "source": [
        "## Load model\n",
        "[back to top ⬆️](#Table-of-contents:)\n",
        "\n",
        "Define a common class for model loading and predicting.\n",
        "\n",
        "There are four main steps for OpenVINO model initialization, and they are required to run for only once before inference loop.\n",
        " 1. Initialize OpenVINO Runtime.\n",
        " 2. Read the network from `*.bin` and `*.xml` files (weights and architecture).\n",
        " 3. Compile the model for device.\n",
        " 4. Get input and output names of nodes.\n",
        "\n",
        "In this case, we can put them all in a class constructor function.\n",
        "\n",
        "To let OpenVINO automatically select the best device for inference just use `AUTO`. In most cases, the best device to use is `GPU` (better performance, but slightly longer startup time)."
      ]
    },
    {
      "cell_type": "code",
      "execution_count": 5,
      "metadata": {
        "id": "hb5A3XkYKqrs"
      },
      "outputs": [],
      "source": [
        "core = ov.Core()\n",
        "\n",
        "\n",
        "class Model:\n",
        "    \"\"\"\n",
        "    This class represents a OpenVINO model object.\n",
        "\n",
        "    \"\"\"\n",
        "    def __init__(self, model_path, batchsize=1, device=\"AUTO\"):\n",
        "        \"\"\"\n",
        "        Initialize the model object\n",
        "\n",
        "        Parameters\n",
        "        ----------\n",
        "        model_path: path of inference model\n",
        "        batchsize: batch size of input data\n",
        "        device: device used to run inference\n",
        "        \"\"\"\n",
        "        self.model = core.read_model(model=model_path)\n",
        "        self.input_layer = self.model.input(0)\n",
        "        self.input_shape = self.input_layer.shape\n",
        "        self.height = self.input_shape[2]\n",
        "        self.width = self.input_shape[3]\n",
        "\n",
        "        for layer in self.model.inputs:\n",
        "            input_shape = layer.partial_shape\n",
        "            input_shape[0] = batchsize\n",
        "            self.model.reshape({layer: input_shape})\n",
        "        self.compiled_model = core.compile_model(model=self.model, device_name=device)\n",
        "        self.output_layer = self.compiled_model.output(0)\n",
        "\n",
        "    def predict(self, input):\n",
        "        \"\"\"\n",
        "        Run inference\n",
        "\n",
        "        Parameters\n",
        "        ----------\n",
        "        input: array of input data\n",
        "        \"\"\"\n",
        "        result = self.compiled_model(input)[self.output_layer]\n",
        "        return result"
      ]
    },
    {
      "cell_type": "markdown",
      "metadata": {
        "id": "uHGFbHkVKqrs"
      },
      "source": [
        "### Select inference device\n",
        "[back to top ⬆️](#Table-of-contents:)\n",
        "\n",
        "select device from dropdown list for running inference using OpenVINO"
      ]
    },
    {
      "cell_type": "code",
      "execution_count": 6,
      "metadata": {
        "colab": {
          "base_uri": "https://localhost:8080/",
          "height": 49,
          "referenced_widgets": [
            "c56b2eab6fad465cb827f725e2d9e11b",
            "0e624085b3f94ff1bfb55dcfe74301be",
            "6597e9fc386e4f8898e3907b1a689129"
          ]
        },
        "id": "iWa8LXtEKqrt",
        "outputId": "00526692-4bb1-4bba-f345-22b597315706"
      },
      "outputs": [
        {
          "output_type": "display_data",
          "data": {
            "text/plain": [
              "Dropdown(description='Device:', index=1, options=('CPU', 'AUTO'), value='AUTO')"
            ],
            "application/vnd.jupyter.widget-view+json": {
              "version_major": 2,
              "version_minor": 0,
              "model_id": "c56b2eab6fad465cb827f725e2d9e11b"
            }
          },
          "metadata": {}
        }
      ],
      "source": [
        "import ipywidgets as widgets\n",
        "\n",
        "device = widgets.Dropdown(\n",
        "    options=core.available_devices + [\"AUTO\"],\n",
        "    value='AUTO',\n",
        "    description='Device:',\n",
        "    disabled=False,\n",
        ")\n",
        "\n",
        "device"
      ]
    },
    {
      "cell_type": "code",
      "execution_count": 7,
      "metadata": {
        "id": "W1R4woaLKqrt"
      },
      "outputs": [],
      "source": [
        "detector = Model(detection_model_path, device=device.value)\n",
        "# since the number of detection object is uncertain, the input batch size of reid model should be dynamic\n",
        "extractor = Model(reidentification_model_path, -1, device.value)"
      ]
    },
    {
      "cell_type": "markdown",
      "metadata": {
        "id": "U3dLhwY8Kqrt"
      },
      "source": [
        "## Data Processing\n",
        "[back to top ⬆️](#Table-of-contents:)\n",
        "\n",
        "Data Processing includes data preprocess and postprocess functions.\n",
        "- Data preprocess function is used to change the layout and shape of input data, according to requirement of the network input format.\n",
        "- Data postprocess function is used to extract the useful information from network's original output and visualize it."
      ]
    },
    {
      "cell_type": "code",
      "execution_count": 8,
      "metadata": {
        "id": "4KsscDiDKqrt"
      },
      "outputs": [],
      "source": [
        "def preprocess(frame, height, width):\n",
        "    \"\"\"\n",
        "    Preprocess a single image\n",
        "\n",
        "    Parameters\n",
        "    ----------\n",
        "    frame: input frame\n",
        "    height: height of model input data\n",
        "    width: width of model input data\n",
        "    \"\"\"\n",
        "    resized_image = cv2.resize(frame, (width, height))\n",
        "    resized_image = resized_image.transpose((2, 0, 1))\n",
        "    input_image = np.expand_dims(resized_image, axis=0).astype(np.float32)\n",
        "    return input_image\n",
        "\n",
        "\n",
        "def batch_preprocess(img_crops, height, width):\n",
        "    \"\"\"\n",
        "    Preprocess batched images\n",
        "\n",
        "    Parameters\n",
        "    ----------\n",
        "    img_crops: batched input images\n",
        "    height: height of model input data\n",
        "    width: width of model input data\n",
        "    \"\"\"\n",
        "    img_batch = np.concatenate([\n",
        "        preprocess(img, height, width)\n",
        "        for img in img_crops\n",
        "    ], axis=0)\n",
        "    return img_batch\n",
        "\n",
        "\n",
        "def process_results(h, w, results, thresh=0.5):\n",
        "    \"\"\"\n",
        "    postprocess detection results\n",
        "\n",
        "    Parameters\n",
        "    ----------\n",
        "    h, w: original height and width of input image\n",
        "    results: raw detection network output\n",
        "    thresh: threshold for low confidence filtering\n",
        "    \"\"\"\n",
        "    # The 'results' variable is a [1, 1, N, 7] tensor.\n",
        "    detections = results.reshape(-1, 7)\n",
        "    boxes = []\n",
        "    labels = []\n",
        "    scores = []\n",
        "    for i, detection in enumerate(detections):\n",
        "        _, label, score, xmin, ymin, xmax, ymax = detection\n",
        "        # Filter detected objects.\n",
        "        if score > thresh:\n",
        "            # Create a box with pixels coordinates from the box with normalized coordinates [0,1].\n",
        "            boxes.append(\n",
        "                [(xmin + xmax) / 2 * w, (ymin + ymax) / 2 * h, (xmax - xmin) * w, (ymax - ymin) * h]\n",
        "            )\n",
        "            labels.append(int(label))\n",
        "            scores.append(float(score))\n",
        "\n",
        "    if len(boxes) == 0:\n",
        "        boxes = np.array([]).reshape(0, 4)\n",
        "        scores = np.array([])\n",
        "        labels = np.array([])\n",
        "    return np.array(boxes), np.array(scores), np.array(labels)\n",
        "\n",
        "\n",
        "def draw_boxes(img, bbox, identities=None):\n",
        "    \"\"\"\n",
        "    Draw bounding box in original image\n",
        "\n",
        "    Parameters\n",
        "    ----------\n",
        "    img: original image\n",
        "    bbox: coordinate of bounding box\n",
        "    identities: identities IDs\n",
        "    \"\"\"\n",
        "    for i, box in enumerate(bbox):\n",
        "        x1, y1, x2, y2 = [int(i) for i in box]\n",
        "        # box text and bar\n",
        "        id = int(identities[i]) if identities is not None else 0\n",
        "        color = compute_color_for_labels(id)\n",
        "        label = '{}{:d}'.format(\"\", id)\n",
        "        t_size = cv2.getTextSize(label, cv2.FONT_HERSHEY_PLAIN, 2, 2)[0]\n",
        "        cv2.rectangle(img, (x1, y1), (x2, y2), color, 2)\n",
        "        cv2.rectangle(\n",
        "            img, (x1, y1), (x1 + t_size[0] + 3, y1 + t_size[1] + 4), color, -1)\n",
        "        cv2.putText(\n",
        "            img,\n",
        "            label,\n",
        "            (x1, y1 + t_size[1] + 4),\n",
        "            cv2.FONT_HERSHEY_PLAIN,\n",
        "            1.6,\n",
        "            [255, 255, 255],\n",
        "            2\n",
        "        )\n",
        "    return img\n",
        "\n",
        "\n",
        "def cosin_metric(x1, x2):\n",
        "    \"\"\"\n",
        "    Calculate the consin distance of two vector\n",
        "\n",
        "    Parameters\n",
        "    ----------\n",
        "    x1, x2: input vectors\n",
        "    \"\"\"\n",
        "    return np.dot(x1, x2) / (np.linalg.norm(x1) * np.linalg.norm(x2))"
      ]
    },
    {
      "cell_type": "markdown",
      "metadata": {
        "id": "WoiIEtAIKqrt"
      },
      "source": [
        "## Test person reidentification model\n",
        "[back to top ⬆️](#Table-of-contents:)\n",
        "\n",
        "The reidentification network outputs a blob with the `(1, 256)` shape named `reid_embedding`, which can be compared with other descriptors using the cosine distance."
      ]
    },
    {
      "cell_type": "markdown",
      "metadata": {
        "id": "0iv9TxNTKqrt"
      },
      "source": [
        "### Visualize data\n",
        "[back to top ⬆️](#Table-of-contents:)\n"
      ]
    },
    {
      "cell_type": "code",
      "execution_count": 9,
      "metadata": {
        "colab": {
          "base_uri": "https://localhost:8080/",
          "height": 393,
          "referenced_widgets": [
            "b20e9ee9df18498daeaf32066de7bed9",
            "7b4e8ce131ed41f9bab4f46006dcf8cf",
            "fb3fe66a27ab478d90814f46ede1adf5",
            "81129c47c8ab49f3a9861dfef66dcafc",
            "4d2e32c5a3fa4005a4c0c3dc18edd58d",
            "f58aa1c0050a4e14ae1a734175a3bec8",
            "b3f246b433b948db8b594129c5f959f1",
            "8b47ce9b12444fcdaec80e56d4003df7",
            "62bc21267ca5432db7ac99ad97f3d515",
            "27e79a7043784a4580f2eb0b42331b40",
            "a9b7499af1884c9884c14301fade192e",
            "0de0d09173fd432cacfd2390dd1d1338",
            "c80d953acb2f48688bba30574fa8f433",
            "0427609921a14efa9ee26fea2e1a31a3",
            "5e5e1e13ade14d78a7c8679ac23a8b91",
            "87ee25fe535c48b886d335316ee2cd29",
            "dd8a729e8b16473d8b4fed9f179a607c",
            "4b4a5c4c42224063839016f903b7e46f",
            "a8d515177c6443cfa8a39412f87814d6",
            "0d6dc02ecd5d470b9adfe7571ef6beaf",
            "4bb3bb934fa1465ea891e01b29a052fc",
            "37780aac4a704896b76ad0a365842411",
            "641b7dc8528b4d048e9e311ccd1b6b7b",
            "54823675be354403ba64bd6d3faf9727",
            "4189319d4aeb4ed39f92a06a78a697b5",
            "309f3fe5ac3b48189240260bf044c6f6",
            "e343f84f97f0479bb45a5d30f4b55470",
            "41f0bbd4bf3143cb844d7a3ca3f1e5bc",
            "90285b31d4d34f8aa6d5b87170495c05",
            "919435d940e4403284ec773108bcb600",
            "768c387dee9b488a910a1a8341208ed7",
            "273e4d07a59e490e9004cbf435557b0a",
            "6aaf6f00e259495ea8bbbf3322342519"
          ]
        },
        "id": "au20pnviKqru",
        "outputId": "85df60d2-c32a-4d98-8b6b-234d276221dc"
      },
      "outputs": [
        {
          "output_type": "display_data",
          "data": {
            "text/plain": [
              "data/person_1_1.png:   0%|          | 0.00/68.3k [00:00<?, ?B/s]"
            ],
            "application/vnd.jupyter.widget-view+json": {
              "version_major": 2,
              "version_minor": 0,
              "model_id": "b20e9ee9df18498daeaf32066de7bed9"
            }
          },
          "metadata": {}
        },
        {
          "output_type": "display_data",
          "data": {
            "text/plain": [
              "data/person_1_2.png:   0%|          | 0.00/68.9k [00:00<?, ?B/s]"
            ],
            "application/vnd.jupyter.widget-view+json": {
              "version_major": 2,
              "version_minor": 0,
              "model_id": "0de0d09173fd432cacfd2390dd1d1338"
            }
          },
          "metadata": {}
        },
        {
          "output_type": "display_data",
          "data": {
            "text/plain": [
              "data/person_2_1.png:   0%|          | 0.00/70.3k [00:00<?, ?B/s]"
            ],
            "application/vnd.jupyter.widget-view+json": {
              "version_major": 2,
              "version_minor": 0,
              "model_id": "641b7dc8528b4d048e9e311ccd1b6b7b"
            }
          },
          "metadata": {}
        },
        {
          "output_type": "display_data",
          "data": {
            "text/plain": [
              "<Figure size 500x500 with 3 Axes>"
            ],
            "image/png": "[encoded data removed]"
          },
          "metadata": {}
        }
      ],
      "source": [
        "base_file_link = 'https://storage.openvinotoolkit.org/repositories/openvino_notebooks/data/data/image/person_'\n",
        "image_indices = ['1_1.png', '1_2.png', '2_1.png']\n",
        "image_paths = [utils.download_file(base_file_link + image_index, directory='data') for image_index in image_indices]\n",
        "image1, image2, image3 = [cv2.cvtColor(cv2.imread(str(image_path)), cv2.COLOR_BGR2RGB) for image_path in image_paths]\n",
        "\n",
        "# Define titles with images.\n",
        "data = {\"Person 1\": image1, \"Person 2\": image2, \"Person 3\": image3}\n",
        "\n",
        "# Create a subplot to visualize images.\n",
        "fig, axs = plt.subplots(1, len(data.items()), figsize=(5, 5))\n",
        "\n",
        "# Fill the subplot.\n",
        "for ax, (name, image) in zip(axs, data.items()):\n",
        "    ax.axis('off')\n",
        "    ax.set_title(name)\n",
        "    ax.imshow(image)\n",
        "\n",
        "# Display an image.\n",
        "plt.show(fig)"
      ]
    },
    {
      "cell_type": "markdown",
      "metadata": {
        "id": "XFpZM3c2Kqru"
      },
      "source": [
        "### Compare two persons\n",
        "[back to top ⬆️](#Table-of-contents:)\n"
      ]
    },
    {
      "cell_type": "code",
      "execution_count": 10,
      "metadata": {
        "colab": {
          "base_uri": "https://localhost:8080/"
        },
        "id": "iYRMWxEaKqru",
        "outputId": "a3a6c890-4287-4915-d155-4cb67b69dae1"
      },
      "outputs": [
        {
          "output_type": "stream",
          "name": "stdout",
          "text": [
            "Different person (confidence: 0.027266500517725945)\n"
          ]
        }
      ],
      "source": [
        "# Metric parameters\n",
        "MAX_COSINE_DISTANCE = 0.6  # threshold of matching object\n",
        "input_data = [image2, image3]\n",
        "img_batch = batch_preprocess(input_data, extractor.height, extractor.width)\n",
        "features = extractor.predict(img_batch)\n",
        "sim = cosin_metric(features[0], features[1])\n",
        "if sim >= 1 - MAX_COSINE_DISTANCE:\n",
        "    print(f'Same person (confidence: {sim})')\n",
        "else:\n",
        "    print(f'Different person (confidence: {sim})')"
      ]
    },
    {
      "cell_type": "markdown",
      "metadata": {
        "id": "9AIVY3NKKqru"
      },
      "source": [
        "## Main Processing Function\n",
        "[back to top ⬆️](#Table-of-contents:)\n",
        "\n",
        "Run person tracking on the specified source. Either a webcam feed or a video file."
      ]
    },
    {
      "cell_type": "code",
      "execution_count": 11,
      "metadata": {
        "id": "GaG14sD4Kqru"
      },
      "outputs": [],
      "source": [
        "# Main processing function to run person tracking.\n",
        "def run_person_tracking(source=0, flip=False, use_popup=False, skip_first_frames=0):\n",
        "    \"\"\"\n",
        "    Main function to run the person tracking:\n",
        "    1. Create a video player to play with target fps (utils.VideoPlayer).\n",
        "    2. Prepare a set of frames for person tracking.\n",
        "    3. Run AI inference for person tracking.\n",
        "    4. Visualize the results.\n",
        "\n",
        "    Parameters:\n",
        "    ----------\n",
        "        source: The webcam number to feed the video stream with primary webcam set to \"0\", or the video path.\n",
        "        flip: To be used by VideoPlayer function for flipping capture image.\n",
        "        use_popup: False for showing encoded frames over this notebook, True for creating a popup window.\n",
        "        skip_first_frames: Number of frames to skip at the beginning of the video.\n",
        "    \"\"\"\n",
        "    player = None\n",
        "    try:\n",
        "        # Create a video player to play with target fps.\n",
        "        player = utils.VideoPlayer(\n",
        "            source=source, size=(700, 450), flip=flip, fps=24, skip_first_frames=skip_first_frames\n",
        "        )\n",
        "        # Start capturing.\n",
        "        player.start()\n",
        "        if use_popup:\n",
        "            title = \"Press ESC to Exit\"\n",
        "            cv2.namedWindow(\n",
        "                winname=title, flags=cv2.WINDOW_GUI_NORMAL | cv2.WINDOW_AUTOSIZE\n",
        "            )\n",
        "\n",
        "        processing_times = collections.deque()\n",
        "        while True:\n",
        "            # Grab the frame.\n",
        "            frame = player.next()\n",
        "            if frame is None:\n",
        "                print(\"Source ended\")\n",
        "                break\n",
        "            # If the frame is larger than full HD, reduce size to improve the performance.\n",
        "\n",
        "            # Resize the image and change dims to fit neural network input.\n",
        "            h, w = frame.shape[:2]\n",
        "            input_image = preprocess(frame, detector.height, detector.width)\n",
        "\n",
        "            # Measure processing time.\n",
        "            start_time = time.time()\n",
        "            # Get the results.\n",
        "            output = detector.predict(input_image)\n",
        "            stop_time = time.time()\n",
        "            processing_times.append(stop_time - start_time)\n",
        "            if len(processing_times) > 200:\n",
        "                processing_times.popleft()\n",
        "\n",
        "            _, f_width = frame.shape[:2]\n",
        "            # Mean processing time [ms].\n",
        "            processing_time = np.mean(processing_times) * 1100\n",
        "            fps = 1000 / processing_time\n",
        "\n",
        "            # Get poses from detection results.\n",
        "            bbox_xywh, score, label = process_results(h, w, results=output)\n",
        "\n",
        "            img_crops = []\n",
        "            for box in bbox_xywh:\n",
        "                x1, y1, x2, y2 = xywh_to_xyxy(box, h, w)\n",
        "                img = frame[y1:y2, x1:x2]\n",
        "                img_crops.append(img)\n",
        "\n",
        "            # Get reidentification feature of each person.\n",
        "            if img_crops:\n",
        "                # preprocess\n",
        "                img_batch = batch_preprocess(img_crops, extractor.height, extractor.width)\n",
        "                features = extractor.predict(img_batch)\n",
        "            else:\n",
        "                features = np.array([])\n",
        "\n",
        "            # Wrap the detection and reidentification results together\n",
        "            bbox_tlwh = xywh_to_tlwh(bbox_xywh)\n",
        "            detections = [\n",
        "                Detection(bbox_tlwh[i], features[i])\n",
        "                for i in range(features.shape[0])\n",
        "            ]\n",
        "\n",
        "            # predict the position of tracking target\n",
        "            tracker.predict()\n",
        "\n",
        "            # update tracker\n",
        "            tracker.update(detections)\n",
        "\n",
        "            # update bbox identities\n",
        "            outputs = []\n",
        "            for track in tracker.tracks:\n",
        "                if not track.is_confirmed() or track.time_since_update > 1:\n",
        "                    continue\n",
        "                box = track.to_tlwh()\n",
        "                x1, y1, x2, y2 = tlwh_to_xyxy(box, h, w)\n",
        "                track_id = track.track_id\n",
        "                outputs.append(np.array([x1, y1, x2, y2, track_id], dtype=np.int32))\n",
        "            if len(outputs) > 0:\n",
        "                outputs = np.stack(outputs, axis=0)\n",
        "\n",
        "            # draw box for visualization\n",
        "            if len(outputs) > 0:\n",
        "                bbox_tlwh = []\n",
        "                bbox_xyxy = outputs[:, :4]\n",
        "                identities = outputs[:, -1]\n",
        "                frame = draw_boxes(frame, bbox_xyxy, identities)\n",
        "\n",
        "            cv2.putText(\n",
        "                img=frame,\n",
        "                text=f\"Inference time: {processing_time:.1f}ms ({fps:.1f} FPS)\",\n",
        "                org=(20, 40),\n",
        "                fontFace=cv2.FONT_HERSHEY_COMPLEX,\n",
        "                fontScale=f_width / 1000,\n",
        "                color=(0, 0, 255),\n",
        "                thickness=1,\n",
        "                lineType=cv2.LINE_AA,\n",
        "            )\n",
        "\n",
        "            if use_popup:\n",
        "                cv2.imshow(winname=title, mat=frame)\n",
        "                key = cv2.waitKey(1)\n",
        "                # escape = 27\n",
        "                if key == 27:\n",
        "                    break\n",
        "            else:\n",
        "                # Encode numpy array to jpg.\n",
        "                _, encoded_img = cv2.imencode(\n",
        "                    ext=\".jpg\", img=frame, params=[cv2.IMWRITE_JPEG_QUALITY, 100]\n",
        "                )\n",
        "                # Create an IPython image.\n",
        "                i = display.Image(data=encoded_img)\n",
        "                # Display the image in this notebook.\n",
        "                display.clear_output(wait=True)\n",
        "                display.display(i)\n",
        "\n",
        "    # ctrl-c\n",
        "    except KeyboardInterrupt:\n",
        "        print(\"Interrupted\")\n",
        "    # any different error\n",
        "    except RuntimeError as e:\n",
        "        print(e)\n",
        "    finally:\n",
        "        if player is not None:\n",
        "            # Stop capturing.\n",
        "            player.stop()\n",
        "        if use_popup:\n",
        "            cv2.destroyAllWindows()"
      ]
    },
    {
      "cell_type": "markdown",
      "metadata": {
        "id": "jmvnarWKKqru"
      },
      "source": [
        "## Run\n",
        "[back to top ⬆️](#Table-of-contents:)\n",
        "\n",
        "### Initialize tracker\n",
        "[back to top ⬆️](#Table-of-contents:)\n",
        "\n",
        "Before running a new tracking task, we have to reinitialize a Tracker object\n"
      ]
    },
    {
      "cell_type": "code",
      "execution_count": 18,
      "metadata": {
        "id": "XyqgYCOmKqru"
      },
      "outputs": [],
      "source": [
        "NN_BUDGET = 100\n",
        "MAX_COSINE_DISTANCE = 0.6  # threshold of matching object\n",
        "metric = NearestNeighborDistanceMetric(\n",
        "    \"cosine\", MAX_COSINE_DISTANCE, NN_BUDGET\n",
        ")\n",
        "tracker = Tracker(\n",
        "    metric,\n",
        "    max_iou_distance=0.7,\n",
        "    max_age=70,\n",
        "    n_init=3\n",
        ")"
      ]
    },
    {
      "cell_type": "markdown",
      "metadata": {
        "id": "plRF7OWbKqrv"
      },
      "source": [
        "### Run Live Person Tracking\n",
        "[back to top ⬆️](#Table-of-contents:)\n",
        "\n",
        "Use a webcam as the video input. By default, the primary webcam is set with `source=0`. If you have multiple webcams, each one will be assigned a consecutive number starting at 0. Set `flip=True` when using a front-facing camera. Some web browsers, especially Mozilla Firefox, may cause flickering. If you experience flickering, set `use_popup=True`.\n",
        "\n",
        "If you do not have a webcam, you can still run this demo with a video file. Any [format supported by OpenCV](https://docs.opencv.org/4.5.1/dd/d43/tutorial_py_video_display.html) will work."
      ]
    },
    {
      "cell_type": "code",
      "source": [
        "!pip install pytube\n",
        "\n",
        "from pytube import YouTube\n",
        "\n",
        "url = \"https://www.youtube.com/watch?v=WvhYuDvH17I\"\n",
        "#url = \"https://www.youtube.com/watch?v=YzcawvDGe4Y\"\n",
        "#url = \"https://www.youtube.com/watch?v=gpFFnBcq3Ng\"\n",
        "#url = \"https://www.youtube.com/watch?v=jnT8h_3VYd8\"\n",
        "\n",
        "yt = YouTube(url)\n",
        "\n",
        "# Choose the lowest resolution MP4\n",
        "#video = yt.streams.filter(progressive=True, file_extension=\"mp4\").order_by(\"resolution\").first()\n",
        "#video = yt.streams.filter(file_extension=\"mp4\").order_by(\"resolution\").first()\n",
        "\n",
        "# Choose the highest resolution MP4\n",
        "video = yt.streams.filter(progressive=True, file_extension=\"mp4\").order_by(\"resolution\").desc().first()\n",
        "\n",
        "# Download the video\n",
        "result = video.download()"
      ],
      "metadata": {
        "colab": {
          "base_uri": "https://localhost:8080/"
        },
        "id": "utKxWQ1TNqaZ",
        "outputId": "76ef8f75-75d9-4dd4-d8eb-3fa1a3d180a8"
      },
      "execution_count": 23,
      "outputs": [
        {
          "output_type": "stream",
          "name": "stdout",
          "text": [
            "Requirement already satisfied: pytube in /usr/local/lib/python3.10/dist-packages (15.0.0)\n"
          ]
        }
      ]
    },
    {
      "cell_type": "code",
      "execution_count": 24,
      "metadata": {
        "id": "4DBT2-ukKqrv",
        "colab": {
          "base_uri": "https://localhost:8080/",
          "height": 484
        },
        "outputId": "66666cf4-dc3f-4674-dccf-061fa928d0e7"
      },
      "outputs": [
        {
          "output_type": "display_data",
          "data": {
            "image/png": "[encoded data removed]",
            "text/plain": [
              "<IPython.core.display.Image object>"
            ]
          },
          "metadata": {}
        },
        {
          "output_type": "stream",
          "name": "stdout",
          "text": [
            "Source ended\n"
          ]
        }
      ],
      "source": [
        "USE_WEBCAM = False\n",
        "\n",
        "cam_id = 0\n",
        "#video_file = 'https://storage.openvinotoolkit.org/repositories/openvino_notebooks/data/data/video/people.mp4'\n",
        "video_file = result\n",
        "source = cam_id if USE_WEBCAM else video_file\n",
        "\n",
        "run_person_tracking(source=source, flip=USE_WEBCAM, use_popup=False)"
      ]
    }
  ],
  "metadata": {
    "kernelspec": {
      "display_name": "Python 3",
      "name": "python3"
    },
    "language_info": {
      "codemirror_mode": {
        "name": "ipython",
        "version": 3
      },
      "file_extension": ".py",
      "mimetype": "text/x-python",
      "name": "python",
      "nbconvert_exporter": "python",
      "pygments_lexer": "ipython3",
      "version": "3.8.10"
    },
    "vscode": {
      "interpreter": {
        "hash": "1c707170576399eaaed0c4f2e01a2d1b61ba791ba1842c47e5b3e4f6f79b82ab"
      }
    },
    "widgets": {
      "application/vnd.jupyter.widget-state+json": {
        "c56b2eab6fad465cb827f725e2d9e11b": {
          "model_module": "@jupyter-widgets/controls",
          "model_name": "DropdownModel",
          "model_module_version": "1.5.0",
          "state": {
            "_dom_classes": [],
            "_model_module": "@jupyter-widgets/controls",
            "_model_module_version": "1.5.0",
            "_model_name": "DropdownModel",
            "_options_labels": [
              "CPU",
              "AUTO"
            ],
            "_view_count": null,
            "_view_module": "@jupyter-widgets/controls",
            "_view_module_version": "1.5.0",
            "_view_name": "DropdownView",
            "description": "Device:",
            "description_tooltip": null,
            "disabled": false,
            "index": 1,
            "layout": "IPY_MODEL_0e624085b3f94ff1bfb55dcfe74301be",
            "style": "IPY_MODEL_6597e9fc386e4f8898e3907b1a689129"
          }
        },
        "0e624085b3f94ff1bfb55dcfe74301be": {
          "model_module": "@jupyter-widgets/base",
          "model_name": "LayoutModel",
          "model_module_version": "1.2.0",
          "state": {
            "_model_module": "@jupyter-widgets/base",
            "_model_module_version": "1.2.0",
            "_model_name": "LayoutModel",
            "_view_count": null,
            "_view_module": "@jupyter-widgets/base",
            "_view_module_version": "1.2.0",
            "_view_name": "LayoutView",
            "align_content": null,
            "align_items": null,
            "align_self": null,
            "border": null,
            "bottom": null,
            "display": null,
            "flex": null,
            "flex_flow": null,
            "grid_area": null,
            "grid_auto_columns": null,
            "grid_auto_flow": null,
            "grid_auto_rows": null,
            "grid_column": null,
            "grid_gap": null,
            "grid_row": null,
            "grid_template_areas": null,
            "grid_template_columns": null,
            "grid_template_rows": null,
            "height": null,
            "justify_content": null,
            "justify_items": null,
            "left": null,
            "margin": null,
            "max_height": null,
            "max_width": null,
            "min_height": null,
            "min_width": null,
            "object_fit": null,
            "object_position": null,
            "order": null,
            "overflow": null,
            "overflow_x": null,
            "overflow_y": null,
            "padding": null,
            "right": null,
            "top": null,
            "visibility": null,
            "width": null
          }
        },
        "6597e9fc386e4f8898e3907b1a689129": {
          "model_module": "@jupyter-widgets/controls",
          "model_name": "DescriptionStyleModel",
          "model_module_version": "1.5.0",
          "state": {
            "_model_module": "@jupyter-widgets/controls",
            "_model_module_version": "1.5.0",
            "_model_name": "DescriptionStyleModel",
            "_view_count": null,
            "_view_module": "@jupyter-widgets/base",
            "_view_module_version": "1.2.0",
            "_view_name": "StyleView",
            "description_width": ""
          }
        },
        "b20e9ee9df18498daeaf32066de7bed9": {
          "model_module": "@jupyter-widgets/controls",
          "model_name": "HBoxModel",
          "model_module_version": "1.5.0",
          "state": {
            "_dom_classes": [],
            "_model_module": "@jupyter-widgets/controls",
            "_model_module_version": "1.5.0",
            "_model_name": "HBoxModel",
            "_view_count": null,
            "_view_module": "@jupyter-widgets/controls",
            "_view_module_version": "1.5.0",
            "_view_name": "HBoxView",
            "box_style": "",
            "children": [
              "IPY_MODEL_7b4e8ce131ed41f9bab4f46006dcf8cf",
              "IPY_MODEL_fb3fe66a27ab478d90814f46ede1adf5",
              "IPY_MODEL_81129c47c8ab49f3a9861dfef66dcafc"
            ],
            "layout": "IPY_MODEL_4d2e32c5a3fa4005a4c0c3dc18edd58d"
          }
        },
        "7b4e8ce131ed41f9bab4f46006dcf8cf": {
          "model_module": "@jupyter-widgets/controls",
          "model_name": "HTMLModel",
          "model_module_version": "1.5.0",
          "state": {
            "_dom_classes": [],
            "_model_module": "@jupyter-widgets/controls",
            "_model_module_version": "1.5.0",
            "_model_name": "HTMLModel",
            "_view_count": null,
            "_view_module": "@jupyter-widgets/controls",
            "_view_module_version": "1.5.0",
            "_view_name": "HTMLView",
            "description": "",
            "description_tooltip": null,
            "layout": "IPY_MODEL_f58aa1c0050a4e14ae1a734175a3bec8",
            "placeholder": "​",
            "style": "IPY_MODEL_b3f246b433b948db8b594129c5f959f1",
            "value": "data/person_1_1.png: 100%"
          }
        },
        "fb3fe66a27ab478d90814f46ede1adf5": {
          "model_module": "@jupyter-widgets/controls",
          "model_name": "FloatProgressModel",
          "model_module_version": "1.5.0",
          "state": {
            "_dom_classes": [],
            "_model_module": "@jupyter-widgets/controls",
            "_model_module_version": "1.5.0",
            "_model_name": "FloatProgressModel",
            "_view_count": null,
            "_view_module": "@jupyter-widgets/controls",
            "_view_module_version": "1.5.0",
            "_view_name": "ProgressView",
            "bar_style": "success",
            "description": "",
            "description_tooltip": null,
            "layout": "IPY_MODEL_8b47ce9b12444fcdaec80e56d4003df7",
            "max": 69938,
            "min": 0,
            "orientation": "horizontal",
            "style": "IPY_MODEL_62bc21267ca5432db7ac99ad97f3d515",
            "value": 69938
          }
        },
        "81129c47c8ab49f3a9861dfef66dcafc": {
          "model_module": "@jupyter-widgets/controls",
          "model_name": "HTMLModel",
          "model_module_version": "1.5.0",
          "state": {
            "_dom_classes": [],
            "_model_module": "@jupyter-widgets/controls",
            "_model_module_version": "1.5.0",
            "_model_name": "HTMLModel",
            "_view_count": null,
            "_view_module": "@jupyter-widgets/controls",
            "_view_module_version": "1.5.0",
            "_view_name": "HTMLView",
            "description": "",
            "description_tooltip": null,
            "layout": "IPY_MODEL_27e79a7043784a4580f2eb0b42331b40",
            "placeholder": "​",
            "style": "IPY_MODEL_a9b7499af1884c9884c14301fade192e",
            "value": " 68.3k/68.3k [00:00&lt;00:00, 229kB/s]"
          }
        },
        "4d2e32c5a3fa4005a4c0c3dc18edd58d": {
          "model_module": "@jupyter-widgets/base",
          "model_name": "LayoutModel",
          "model_module_version": "1.2.0",
          "state": {
            "_model_module": "@jupyter-widgets/base",
            "_model_module_version": "1.2.0",
            "_model_name": "LayoutModel",
            "_view_count": null,
            "_view_module": "@jupyter-widgets/base",
            "_view_module_version": "1.2.0",
            "_view_name": "LayoutView",
            "align_content": null,
            "align_items": null,
            "align_self": null,
            "border": null,
            "bottom": null,
            "display": null,
            "flex": null,
            "flex_flow": null,
            "grid_area": null,
            "grid_auto_columns": null,
            "grid_auto_flow": null,
            "grid_auto_rows": null,
            "grid_column": null,
            "grid_gap": null,
            "grid_row": null,
            "grid_template_areas": null,
            "grid_template_columns": null,
            "grid_template_rows": null,
            "height": null,
            "justify_content": null,
            "justify_items": null,
            "left": null,
            "margin": null,
            "max_height": null,
            "max_width": null,
            "min_height": null,
            "min_width": null,
            "object_fit": null,
            "object_position": null,
            "order": null,
            "overflow": null,
            "overflow_x": null,
            "overflow_y": null,
            "padding": null,
            "right": null,
            "top": null,
            "visibility": null,
            "width": null
          }
        },
        "f58aa1c0050a4e14ae1a734175a3bec8": {
          "model_module": "@jupyter-widgets/base",
          "model_name": "LayoutModel",
          "model_module_version": "1.2.0",
          "state": {
            "_model_module": "@jupyter-widgets/base",
            "_model_module_version": "1.2.0",
            "_model_name": "LayoutModel",
            "_view_count": null,
            "_view_module": "@jupyter-widgets/base",
            "_view_module_version": "1.2.0",
            "_view_name": "LayoutView",
            "align_content": null,
            "align_items": null,
            "align_self": null,
            "border": null,
            "bottom": null,
            "display": null,
            "flex": null,
            "flex_flow": null,
            "grid_area": null,
            "grid_auto_columns": null,
            "grid_auto_flow": null,
            "grid_auto_rows": null,
            "grid_column": null,
            "grid_gap": null,
            "grid_row": null,
            "grid_template_areas": null,
            "grid_template_columns": null,
            "grid_template_rows": null,
            "height": null,
            "justify_content": null,
            "justify_items": null,
            "left": null,
            "margin": null,
            "max_height": null,
            "max_width": null,
            "min_height": null,
            "min_width": null,
            "object_fit": null,
            "object_position": null,
            "order": null,
            "overflow": null,
            "overflow_x": null,
            "overflow_y": null,
            "padding": null,
            "right": null,
            "top": null,
            "visibility": null,
            "width": null
          }
        },
        "b3f246b433b948db8b594129c5f959f1": {
          "model_module": "@jupyter-widgets/controls",
          "model_name": "DescriptionStyleModel",
          "model_module_version": "1.5.0",
          "state": {
            "_model_module": "@jupyter-widgets/controls",
            "_model_module_version": "1.5.0",
            "_model_name": "DescriptionStyleModel",
            "_view_count": null,
            "_view_module": "@jupyter-widgets/base",
            "_view_module_version": "1.2.0",
            "_view_name": "StyleView",
            "description_width": ""
          }
        },
        "8b47ce9b12444fcdaec80e56d4003df7": {
          "model_module": "@jupyter-widgets/base",
          "model_name": "LayoutModel",
          "model_module_version": "1.2.0",
          "state": {
            "_model_module": "@jupyter-widgets/base",
            "_model_module_version": "1.2.0",
            "_model_name": "LayoutModel",
            "_view_count": null,
            "_view_module": "@jupyter-widgets/base",
            "_view_module_version": "1.2.0",
            "_view_name": "LayoutView",
            "align_content": null,
            "align_items": null,
            "align_self": null,
            "border": null,
            "bottom": null,
            "display": null,
            "flex": null,
            "flex_flow": null,
            "grid_area": null,
            "grid_auto_columns": null,
            "grid_auto_flow": null,
            "grid_auto_rows": null,
            "grid_column": null,
            "grid_gap": null,
            "grid_row": null,
            "grid_template_areas": null,
            "grid_template_columns": null,
            "grid_template_rows": null,
            "height": null,
            "justify_content": null,
            "justify_items": null,
            "left": null,
            "margin": null,
            "max_height": null,
            "max_width": null,
            "min_height": null,
            "min_width": null,
            "object_fit": null,
            "object_position": null,
            "order": null,
            "overflow": null,
            "overflow_x": null,
            "overflow_y": null,
            "padding": null,
            "right": null,
            "top": null,
            "visibility": null,
            "width": null
          }
        },
        "62bc21267ca5432db7ac99ad97f3d515": {
          "model_module": "@jupyter-widgets/controls",
          "model_name": "ProgressStyleModel",
          "model_module_version": "1.5.0",
          "state": {
            "_model_module": "@jupyter-widgets/controls",
            "_model_module_version": "1.5.0",
            "_model_name": "ProgressStyleModel",
            "_view_count": null,
            "_view_module": "@jupyter-widgets/base",
            "_view_module_version": "1.2.0",
            "_view_name": "StyleView",
            "bar_color": null,
            "description_width": ""
          }
        },
        "27e79a7043784a4580f2eb0b42331b40": {
          "model_module": "@jupyter-widgets/base",
          "model_name": "LayoutModel",
          "model_module_version": "1.2.0",
          "state": {
            "_model_module": "@jupyter-widgets/base",
            "_model_module_version": "1.2.0",
            "_model_name": "LayoutModel",
            "_view_count": null,
            "_view_module": "@jupyter-widgets/base",
            "_view_module_version": "1.2.0",
            "_view_name": "LayoutView",
            "align_content": null,
            "align_items": null,
            "align_self": null,
            "border": null,
            "bottom": null,
            "display": null,
            "flex": null,
            "flex_flow": null,
            "grid_area": null,
            "grid_auto_columns": null,
            "grid_auto_flow": null,
            "grid_auto_rows": null,
            "grid_column": null,
            "grid_gap": null,
            "grid_row": null,
            "grid_template_areas": null,
            "grid_template_columns": null,
            "grid_template_rows": null,
            "height": null,
            "justify_content": null,
            "justify_items": null,
            "left": null,
            "margin": null,
            "max_height": null,
            "max_width": null,
            "min_height": null,
            "min_width": null,
            "object_fit": null,
            "object_position": null,
            "order": null,
            "overflow": null,
            "overflow_x": null,
            "overflow_y": null,
            "padding": null,
            "right": null,
            "top": null,
            "visibility": null,
            "width": null
          }
        },
        "a9b7499af1884c9884c14301fade192e": {
          "model_module": "@jupyter-widgets/controls",
          "model_name": "DescriptionStyleModel",
          "model_module_version": "1.5.0",
          "state": {
            "_model_module": "@jupyter-widgets/controls",
            "_model_module_version": "1.5.0",
            "_model_name": "DescriptionStyleModel",
            "_view_count": null,
            "_view_module": "@jupyter-widgets/base",
            "_view_module_version": "1.2.0",
            "_view_name": "StyleView",
            "description_width": ""
          }
        },
        "0de0d09173fd432cacfd2390dd1d1338": {
          "model_module": "@jupyter-widgets/controls",
          "model_name": "HBoxModel",
          "model_module_version": "1.5.0",
          "state": {
            "_dom_classes": [],
            "_model_module": "@jupyter-widgets/controls",
            "_model_module_version": "1.5.0",
            "_model_name": "HBoxModel",
            "_view_count": null,
            "_view_module": "@jupyter-widgets/controls",
            "_view_module_version": "1.5.0",
            "_view_name": "HBoxView",
            "box_style": "",
            "children": [
              "IPY_MODEL_c80d953acb2f48688bba30574fa8f433",
              "IPY_MODEL_0427609921a14efa9ee26fea2e1a31a3",
              "IPY_MODEL_5e5e1e13ade14d78a7c8679ac23a8b91"
            ],
            "layout": "IPY_MODEL_87ee25fe535c48b886d335316ee2cd29"
          }
        },
        "c80d953acb2f48688bba30574fa8f433": {
          "model_module": "@jupyter-widgets/controls",
          "model_name": "HTMLModel",
          "model_module_version": "1.5.0",
          "state": {
            "_dom_classes": [],
            "_model_module": "@jupyter-widgets/controls",
            "_model_module_version": "1.5.0",
            "_model_name": "HTMLModel",
            "_view_count": null,
            "_view_module": "@jupyter-widgets/controls",
            "_view_module_version": "1.5.0",
            "_view_name": "HTMLView",
            "description": "",
            "description_tooltip": null,
            "layout": "IPY_MODEL_dd8a729e8b16473d8b4fed9f179a607c",
            "placeholder": "​",
            "style": "IPY_MODEL_4b4a5c4c42224063839016f903b7e46f",
            "value": "data/person_1_2.png: 100%"
          }
        },
        "0427609921a14efa9ee26fea2e1a31a3": {
          "model_module": "@jupyter-widgets/controls",
          "model_name": "FloatProgressModel",
          "model_module_version": "1.5.0",
          "state": {
            "_dom_classes": [],
            "_model_module": "@jupyter-widgets/controls",
            "_model_module_version": "1.5.0",
            "_model_name": "FloatProgressModel",
            "_view_count": null,
            "_view_module": "@jupyter-widgets/controls",
            "_view_module_version": "1.5.0",
            "_view_name": "ProgressView",
            "bar_style": "success",
            "description": "",
            "description_tooltip": null,
            "layout": "IPY_MODEL_a8d515177c6443cfa8a39412f87814d6",
            "max": 70602,
            "min": 0,
            "orientation": "horizontal",
            "style": "IPY_MODEL_0d6dc02ecd5d470b9adfe7571ef6beaf",
            "value": 70602
          }
        },
        "5e5e1e13ade14d78a7c8679ac23a8b91": {
          "model_module": "@jupyter-widgets/controls",
          "model_name": "HTMLModel",
          "model_module_version": "1.5.0",
          "state": {
            "_dom_classes": [],
            "_model_module": "@jupyter-widgets/controls",
            "_model_module_version": "1.5.0",
            "_model_name": "HTMLModel",
            "_view_count": null,
            "_view_module": "@jupyter-widgets/controls",
            "_view_module_version": "1.5.0",
            "_view_name": "HTMLView",
            "description": "",
            "description_tooltip": null,
            "layout": "IPY_MODEL_4bb3bb934fa1465ea891e01b29a052fc",
            "placeholder": "​",
            "style": "IPY_MODEL_37780aac4a704896b76ad0a365842411",
            "value": " 68.9k/68.9k [00:00&lt;00:00, 284kB/s]"
          }
        },
        "87ee25fe535c48b886d335316ee2cd29": {
          "model_module": "@jupyter-widgets/base",
          "model_name": "LayoutModel",
          "model_module_version": "1.2.0",
          "state": {
            "_model_module": "@jupyter-widgets/base",
            "_model_module_version": "1.2.0",
            "_model_name": "LayoutModel",
            "_view_count": null,
            "_view_module": "@jupyter-widgets/base",
            "_view_module_version": "1.2.0",
            "_view_name": "LayoutView",
            "align_content": null,
            "align_items": null,
            "align_self": null,
            "border": null,
            "bottom": null,
            "display": null,
            "flex": null,
            "flex_flow": null,
            "grid_area": null,
            "grid_auto_columns": null,
            "grid_auto_flow": null,
            "grid_auto_rows": null,
            "grid_column": null,
            "grid_gap": null,
            "grid_row": null,
            "grid_template_areas": null,
            "grid_template_columns": null,
            "grid_template_rows": null,
            "height": null,
            "justify_content": null,
            "justify_items": null,
            "left": null,
            "margin": null,
            "max_height": null,
            "max_width": null,
            "min_height": null,
            "min_width": null,
            "object_fit": null,
            "object_position": null,
            "order": null,
            "overflow": null,
            "overflow_x": null,
            "overflow_y": null,
            "padding": null,
            "right": null,
            "top": null,
            "visibility": null,
            "width": null
          }
        },
        "dd8a729e8b16473d8b4fed9f179a607c": {
          "model_module": "@jupyter-widgets/base",
          "model_name": "LayoutModel",
          "model_module_version": "1.2.0",
          "state": {
            "_model_module": "@jupyter-widgets/base",
            "_model_module_version": "1.2.0",
            "_model_name": "LayoutModel",
            "_view_count": null,
            "_view_module": "@jupyter-widgets/base",
            "_view_module_version": "1.2.0",
            "_view_name": "LayoutView",
            "align_content": null,
            "align_items": null,
            "align_self": null,
            "border": null,
            "bottom": null,
            "display": null,
            "flex": null,
            "flex_flow": null,
            "grid_area": null,
            "grid_auto_columns": null,
            "grid_auto_flow": null,
            "grid_auto_rows": null,
            "grid_column": null,
            "grid_gap": null,
            "grid_row": null,
            "grid_template_areas": null,
            "grid_template_columns": null,
            "grid_template_rows": null,
            "height": null,
            "justify_content": null,
            "justify_items": null,
            "left": null,
            "margin": null,
            "max_height": null,
            "max_width": null,
            "min_height": null,
            "min_width": null,
            "object_fit": null,
            "object_position": null,
            "order": null,
            "overflow": null,
            "overflow_x": null,
            "overflow_y": null,
            "padding": null,
            "right": null,
            "top": null,
            "visibility": null,
            "width": null
          }
        },
        "4b4a5c4c42224063839016f903b7e46f": {
          "model_module": "@jupyter-widgets/controls",
          "model_name": "DescriptionStyleModel",
          "model_module_version": "1.5.0",
          "state": {
            "_model_module": "@jupyter-widgets/controls",
            "_model_module_version": "1.5.0",
            "_model_name": "DescriptionStyleModel",
            "_view_count": null,
            "_view_module": "@jupyter-widgets/base",
            "_view_module_version": "1.2.0",
            "_view_name": "StyleView",
            "description_width": ""
          }
        },
        "a8d515177c6443cfa8a39412f87814d6": {
          "model_module": "@jupyter-widgets/base",
          "model_name": "LayoutModel",
          "model_module_version": "1.2.0",
          "state": {
            "_model_module": "@jupyter-widgets/base",
            "_model_module_version": "1.2.0",
            "_model_name": "LayoutModel",
            "_view_count": null,
            "_view_module": "@jupyter-widgets/base",
            "_view_module_version": "1.2.0",
            "_view_name": "LayoutView",
            "align_content": null,
            "align_items": null,
            "align_self": null,
            "border": null,
            "bottom": null,
            "display": null,
            "flex": null,
            "flex_flow": null,
            "grid_area": null,
            "grid_auto_columns": null,
            "grid_auto_flow": null,
            "grid_auto_rows": null,
            "grid_column": null,
            "grid_gap": null,
            "grid_row": null,
            "grid_template_areas": null,
            "grid_template_columns": null,
            "grid_template_rows": null,
            "height": null,
            "justify_content": null,
            "justify_items": null,
            "left": null,
            "margin": null,
            "max_height": null,
            "max_width": null,
            "min_height": null,
            "min_width": null,
            "object_fit": null,
            "object_position": null,
            "order": null,
            "overflow": null,
            "overflow_x": null,
            "overflow_y": null,
            "padding": null,
            "right": null,
            "top": null,
            "visibility": null,
            "width": null
          }
        },
        "0d6dc02ecd5d470b9adfe7571ef6beaf": {
          "model_module": "@jupyter-widgets/controls",
          "model_name": "ProgressStyleModel",
          "model_module_version": "1.5.0",
          "state": {
            "_model_module": "@jupyter-widgets/controls",
            "_model_module_version": "1.5.0",
            "_model_name": "ProgressStyleModel",
            "_view_count": null,
            "_view_module": "@jupyter-widgets/base",
            "_view_module_version": "1.2.0",
            "_view_name": "StyleView",
            "bar_color": null,
            "description_width": ""
          }
        },
        "4bb3bb934fa1465ea891e01b29a052fc": {
          "model_module": "@jupyter-widgets/base",
          "model_name": "LayoutModel",
          "model_module_version": "1.2.0",
          "state": {
            "_model_module": "@jupyter-widgets/base",
            "_model_module_version": "1.2.0",
            "_model_name": "LayoutModel",
            "_view_count": null,
            "_view_module": "@jupyter-widgets/base",
            "_view_module_version": "1.2.0",
            "_view_name": "LayoutView",
            "align_content": null,
            "align_items": null,
            "align_self": null,
            "border": null,
            "bottom": null,
            "display": null,
            "flex": null,
            "flex_flow": null,
            "grid_area": null,
            "grid_auto_columns": null,
            "grid_auto_flow": null,
            "grid_auto_rows": null,
            "grid_column": null,
            "grid_gap": null,
            "grid_row": null,
            "grid_template_areas": null,
            "grid_template_columns": null,
            "grid_template_rows": null,
            "height": null,
            "justify_content": null,
            "justify_items": null,
            "left": null,
            "margin": null,
            "max_height": null,
            "max_width": null,
            "min_height": null,
            "min_width": null,
            "object_fit": null,
            "object_position": null,
            "order": null,
            "overflow": null,
            "overflow_x": null,
            "overflow_y": null,
            "padding": null,
            "right": null,
            "top": null,
            "visibility": null,
            "width": null
          }
        },
        "37780aac4a704896b76ad0a365842411": {
          "model_module": "@jupyter-widgets/controls",
          "model_name": "DescriptionStyleModel",
          "model_module_version": "1.5.0",
          "state": {
            "_model_module": "@jupyter-widgets/controls",
            "_model_module_version": "1.5.0",
            "_model_name": "DescriptionStyleModel",
            "_view_count": null,
            "_view_module": "@jupyter-widgets/base",
            "_view_module_version": "1.2.0",
            "_view_name": "StyleView",
            "description_width": ""
          }
        },
        "641b7dc8528b4d048e9e311ccd1b6b7b": {
          "model_module": "@jupyter-widgets/controls",
          "model_name": "HBoxModel",
          "model_module_version": "1.5.0",
          "state": {
            "_dom_classes": [],
            "_model_module": "@jupyter-widgets/controls",
            "_model_module_version": "1.5.0",
            "_model_name": "HBoxModel",
            "_view_count": null,
            "_view_module": "@jupyter-widgets/controls",
            "_view_module_version": "1.5.0",
            "_view_name": "HBoxView",
            "box_style": "",
            "children": [
              "IPY_MODEL_54823675be354403ba64bd6d3faf9727",
              "IPY_MODEL_4189319d4aeb4ed39f92a06a78a697b5",
              "IPY_MODEL_309f3fe5ac3b48189240260bf044c6f6"
            ],
            "layout": "IPY_MODEL_e343f84f97f0479bb45a5d30f4b55470"
          }
        },
        "54823675be354403ba64bd6d3faf9727": {
          "model_module": "@jupyter-widgets/controls",
          "model_name": "HTMLModel",
          "model_module_version": "1.5.0",
          "state": {
            "_dom_classes": [],
            "_model_module": "@jupyter-widgets/controls",
            "_model_module_version": "1.5.0",
            "_model_name": "HTMLModel",
            "_view_count": null,
            "_view_module": "@jupyter-widgets/controls",
            "_view_module_version": "1.5.0",
            "_view_name": "HTMLView",
            "description": "",
            "description_tooltip": null,
            "layout": "IPY_MODEL_41f0bbd4bf3143cb844d7a3ca3f1e5bc",
            "placeholder": "​",
            "style": "IPY_MODEL_90285b31d4d34f8aa6d5b87170495c05",
            "value": "data/person_2_1.png: 100%"
          }
        },
        "4189319d4aeb4ed39f92a06a78a697b5": {
          "model_module": "@jupyter-widgets/controls",
          "model_name": "FloatProgressModel",
          "model_module_version": "1.5.0",
          "state": {
            "_dom_classes": [],
            "_model_module": "@jupyter-widgets/controls",
            "_model_module_version": "1.5.0",
            "_model_name": "FloatProgressModel",
            "_view_count": null,
            "_view_module": "@jupyter-widgets/controls",
            "_view_module_version": "1.5.0",
            "_view_name": "ProgressView",
            "bar_style": "success",
            "description": "",
            "description_tooltip": null,
            "layout": "IPY_MODEL_919435d940e4403284ec773108bcb600",
            "max": 71991,
            "min": 0,
            "orientation": "horizontal",
            "style": "IPY_MODEL_768c387dee9b488a910a1a8341208ed7",
            "value": 71991
          }
        },
        "309f3fe5ac3b48189240260bf044c6f6": {
          "model_module": "@jupyter-widgets/controls",
          "model_name": "HTMLModel",
          "model_module_version": "1.5.0",
          "state": {
            "_dom_classes": [],
            "_model_module": "@jupyter-widgets/controls",
            "_model_module_version": "1.5.0",
            "_model_name": "HTMLModel",
            "_view_count": null,
            "_view_module": "@jupyter-widgets/controls",
            "_view_module_version": "1.5.0",
            "_view_name": "HTMLView",
            "description": "",
            "description_tooltip": null,
            "layout": "IPY_MODEL_273e4d07a59e490e9004cbf435557b0a",
            "placeholder": "​",
            "style": "IPY_MODEL_6aaf6f00e259495ea8bbbf3322342519",
            "value": " 70.3k/70.3k [00:00&lt;00:00, 308kB/s]"
          }
        },
        "e343f84f97f0479bb45a5d30f4b55470": {
          "model_module": "@jupyter-widgets/base",
          "model_name": "LayoutModel",
          "model_module_version": "1.2.0",
          "state": {
            "_model_module": "@jupyter-widgets/base",
            "_model_module_version": "1.2.0",
            "_model_name": "LayoutModel",
            "_view_count": null,
            "_view_module": "@jupyter-widgets/base",
            "_view_module_version": "1.2.0",
            "_view_name": "LayoutView",
            "align_content": null,
            "align_items": null,
            "align_self": null,
            "border": null,
            "bottom": null,
            "display": null,
            "flex": null,
            "flex_flow": null,
            "grid_area": null,
            "grid_auto_columns": null,
            "grid_auto_flow": null,
            "grid_auto_rows": null,
            "grid_column": null,
            "grid_gap": null,
            "grid_row": null,
            "grid_template_areas": null,
            "grid_template_columns": null,
            "grid_template_rows": null,
            "height": null,
            "justify_content": null,
            "justify_items": null,
            "left": null,
            "margin": null,
            "max_height": null,
            "max_width": null,
            "min_height": null,
            "min_width": null,
            "object_fit": null,
            "object_position": null,
            "order": null,
            "overflow": null,
            "overflow_x": null,
            "overflow_y": null,
            "padding": null,
            "right": null,
            "top": null,
            "visibility": null,
            "width": null
          }
        },
        "41f0bbd4bf3143cb844d7a3ca3f1e5bc": {
          "model_module": "@jupyter-widgets/base",
          "model_name": "LayoutModel",
          "model_module_version": "1.2.0",
          "state": {
            "_model_module": "@jupyter-widgets/base",
            "_model_module_version": "1.2.0",
            "_model_name": "LayoutModel",
            "_view_count": null,
            "_view_module": "@jupyter-widgets/base",
            "_view_module_version": "1.2.0",
            "_view_name": "LayoutView",
            "align_content": null,
            "align_items": null,
            "align_self": null,
            "border": null,
            "bottom": null,
            "display": null,
            "flex": null,
            "flex_flow": null,
            "grid_area": null,
            "grid_auto_columns": null,
            "grid_auto_flow": null,
            "grid_auto_rows": null,
            "grid_column": null,
            "grid_gap": null,
            "grid_row": null,
            "grid_template_areas": null,
            "grid_template_columns": null,
            "grid_template_rows": null,
            "height": null,
            "justify_content": null,
            "justify_items": null,
            "left": null,
            "margin": null,
            "max_height": null,
            "max_width": null,
            "min_height": null,
            "min_width": null,
            "object_fit": null,
            "object_position": null,
            "order": null,
            "overflow": null,
            "overflow_x": null,
            "overflow_y": null,
            "padding": null,
            "right": null,
            "top": null,
            "visibility": null,
            "width": null
          }
        },
        "90285b31d4d34f8aa6d5b87170495c05": {
          "model_module": "@jupyter-widgets/controls",
          "model_name": "DescriptionStyleModel",
          "model_module_version": "1.5.0",
          "state": {
            "_model_module": "@jupyter-widgets/controls",
            "_model_module_version": "1.5.0",
            "_model_name": "DescriptionStyleModel",
            "_view_count": null,
            "_view_module": "@jupyter-widgets/base",
            "_view_module_version": "1.2.0",
            "_view_name": "StyleView",
            "description_width": ""
          }
        },
        "919435d940e4403284ec773108bcb600": {
          "model_module": "@jupyter-widgets/base",
          "model_name": "LayoutModel",
          "model_module_version": "1.2.0",
          "state": {
            "_model_module": "@jupyter-widgets/base",
            "_model_module_version": "1.2.0",
            "_model_name": "LayoutModel",
            "_view_count": null,
            "_view_module": "@jupyter-widgets/base",
            "_view_module_version": "1.2.0",
            "_view_name": "LayoutView",
            "align_content": null,
            "align_items": null,
            "align_self": null,
            "border": null,
            "bottom": null,
            "display": null,
            "flex": null,
            "flex_flow": null,
            "grid_area": null,
            "grid_auto_columns": null,
            "grid_auto_flow": null,
            "grid_auto_rows": null,
            "grid_column": null,
            "grid_gap": null,
            "grid_row": null,
            "grid_template_areas": null,
            "grid_template_columns": null,
            "grid_template_rows": null,
            "height": null,
            "justify_content": null,
            "justify_items": null,
            "left": null,
            "margin": null,
            "max_height": null,
            "max_width": null,
            "min_height": null,
            "min_width": null,
            "object_fit": null,
            "object_position": null,
            "order": null,
            "overflow": null,
            "overflow_x": null,
            "overflow_y": null,
            "padding": null,
            "right": null,
            "top": null,
            "visibility": null,
            "width": null
          }
        },
        "768c387dee9b488a910a1a8341208ed7": {
          "model_module": "@jupyter-widgets/controls",
          "model_name": "ProgressStyleModel",
          "model_module_version": "1.5.0",
          "state": {
            "_model_module": "@jupyter-widgets/controls",
            "_model_module_version": "1.5.0",
            "_model_name": "ProgressStyleModel",
            "_view_count": null,
            "_view_module": "@jupyter-widgets/base",
            "_view_module_version": "1.2.0",
            "_view_name": "StyleView",
            "bar_color": null,
            "description_width": ""
          }
        },
        "273e4d07a59e490e9004cbf435557b0a": {
          "model_module": "@jupyter-widgets/base",
          "model_name": "LayoutModel",
          "model_module_version": "1.2.0",
          "state": {
            "_model_module": "@jupyter-widgets/base",
            "_model_module_version": "1.2.0",
            "_model_name": "LayoutModel",
            "_view_count": null,
            "_view_module": "@jupyter-widgets/base",
            "_view_module_version": "1.2.0",
            "_view_name": "LayoutView",
            "align_content": null,
            "align_items": null,
            "align_self": null,
            "border": null,
            "bottom": null,
            "display": null,
            "flex": null,
            "flex_flow": null,
            "grid_area": null,
            "grid_auto_columns": null,
            "grid_auto_flow": null,
            "grid_auto_rows": null,
            "grid_column": null,
            "grid_gap": null,
            "grid_row": null,
            "grid_template_areas": null,
            "grid_template_columns": null,
            "grid_template_rows": null,
            "height": null,
            "justify_content": null,
            "justify_items": null,
            "left": null,
            "margin": null,
            "max_height": null,
            "max_width": null,
            "min_height": null,
            "min_width": null,
            "object_fit": null,
            "object_position": null,
            "order": null,
            "overflow": null,
            "overflow_x": null,
            "overflow_y": null,
            "padding": null,
            "right": null,
            "top": null,
            "visibility": null,
            "width": null
          }
        },
        "6aaf6f00e259495ea8bbbf3322342519": {
          "model_module": "@jupyter-widgets/controls",
          "model_name": "DescriptionStyleModel",
          "model_module_version": "1.5.0",
          "state": {
            "_model_module": "@jupyter-widgets/controls",
            "_model_module_version": "1.5.0",
            "_model_name": "DescriptionStyleModel",
            "_view_count": null,
            "_view_module": "@jupyter-widgets/base",
            "_view_module_version": "1.2.0",
            "_view_name": "StyleView",
            "description_width": ""
          }
        }
      }
    },
    "colab": {
      "provenance": [],
      "gpuType": "T4"
    },
    "accelerator": "GPU"
  },
  "nbformat": 4,
  "nbformat_minor": 0
}